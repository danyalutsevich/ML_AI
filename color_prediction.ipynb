{
 "cells": [
  {
   "cell_type": "code",
   "execution_count": 44,
   "metadata": {},
   "outputs": [],
   "source": [
    "import numpy as np\n",
    "import math"
   ]
  },
  {
   "cell_type": "code",
   "execution_count": 310,
   "metadata": {},
   "outputs": [
    {
     "name": "stdout",
     "output_type": "stream",
     "text": [
      "14 87 -6\n",
      "{'l': 3, 'w': 1, 'c': 1}\n"
     ]
    }
   ],
   "source": [
    "LR = 0.6\n",
    "EPOCHS = 1000\n",
    "# 1 - red\n",
    "# 0 - blue\n",
    "dataset = np.array([{\"l\":3,\"w\":1,\"c\":1},{\"l\":0.7,\"w\":2,\"c\":0},{\"l\":1.3,\"w\":1.8,\"c\":0},{\"l\":2.5,\"w\":0.9,\"c\":1},{\"l\":2.7,\"w\":1.2,\"c\":1},{\"l\":1.2,\"w\":1.9,\"c\":0}])\n",
    "data_set = np.loadtxt(\"flowersDataset.csv\",skiprows=1,delimiter=\",\")\n",
    "Ls = [3,0.7,1.3,2.5,2.7,1.2]\n",
    "Ws = [1,2,1.8,0.9,1.2,1.9]\n",
    "Cs = [1,0,0,1,1,0]\n",
    "\n",
    "\n",
    "W1n = np.random.randint(low=-100, high=100)\n",
    "W2n = np.random.randint(low=-100, high=100)\n",
    "Bn = np.random.randint(low=-100, high=100)\n",
    "print(W1n, W2n, Bn)\n",
    "print(dataset[0])"
   ]
  },
  {
   "cell_type": "code",
   "execution_count": 217,
   "metadata": {},
   "outputs": [
    {
     "data": {
      "text/plain": [
       "0.2689414213699951"
      ]
     },
     "execution_count": 217,
     "metadata": {},
     "output_type": "execute_result"
    }
   ],
   "source": [
    "def sigmoid(x):\n",
    "        return 1 - 1/(1 + math.exp(x))\n",
    "sigmoid(-1)"
   ]
  },
  {
   "cell_type": "code",
   "execution_count": 218,
   "metadata": {},
   "outputs": [],
   "source": [
    "def color_predictor_network(l,w):\n",
    "    global W1n\n",
    "    global W2n\n",
    "    global Bn\n",
    "    return sigmoid(Bn + W1n*l + W2n*w)"
   ]
  },
  {
   "cell_type": "code",
   "execution_count": 219,
   "metadata": {},
   "outputs": [],
   "source": [
    "def K(model, expected):\n",
    "    return 2 * (model - expected)"
   ]
  },
  {
   "cell_type": "code",
   "execution_count": 313,
   "metadata": {},
   "outputs": [
    {
     "name": "stdout",
     "output_type": "stream",
     "text": [
      "W1 -69.94623859908144 W2 74.44088341832115 B 148.7793614456102\n"
     ]
    }
   ],
   "source": [
    "\n",
    "iterations=0\n",
    "# 0 - length\n",
    "# 1 - width\n",
    "# Training\n",
    "while iterations < EPOCHS:\n",
    "    iterations += 1\n",
    "    for el in data_set :\n",
    "        k = K(color_predictor_network(el[0],el[1]),el[2])\n",
    "        W1n = W1n - k * LR * el[0]\n",
    "        W2n = W2n - k * LR * el[1]\n",
    "        Bn = Bn - k * LR * el[2]\n",
    "        # W1n -= k * LR * el[0]\n",
    "        # W2n -= k * LR * el[1]\n",
    "        # Bn -= k * LR * el[2]\n",
    "\n",
    "print(f\"W1 {W1n} W2 {W2n} B {Bn}\")\n",
    "\n",
    "\n",
    "    "
   ]
  },
  {
   "cell_type": "code",
   "execution_count": null,
   "metadata": {},
   "outputs": [],
   "source": []
  },
  {
   "cell_type": "code",
   "execution_count": 316,
   "metadata": {},
   "outputs": [
    {
     "name": "stdout",
     "output_type": "stream",
     "text": [
      "1.0 1.0\n",
      "0.9999999999998235 1.0\n",
      "1.0 1.0\n",
      "1.0 1.0\n",
      "1.0 1.0\n",
      "1.0 1.0\n",
      "1.0 1.0\n",
      "1.0 1.0\n",
      "1.0 1.0\n",
      "0.9999999999999999 1.0\n",
      "1.0 1.0\n",
      "1.0 1.0\n",
      "0.9999999999999999 1.0\n",
      "1.0 1.0\n",
      "1.0 1.0\n",
      "1.0 1.0\n",
      "1.0 1.0\n",
      "1.0 1.0\n",
      "0.9999999999999951 1.0\n",
      "1.0 1.0\n",
      "0.9999999999681083 1.0\n",
      "1.0 1.0\n",
      "1.0 1.0\n",
      "1.0 1.0\n",
      "1.0 1.0\n",
      "0.9999999998074796 1.0\n",
      "1.0 1.0\n",
      "1.0 1.0\n",
      "1.0 1.0\n",
      "1.0 1.0\n",
      "1.0 1.0\n",
      "0.9999999999681083 1.0\n",
      "1.0 1.0\n",
      "1.0 1.0\n",
      "0.9999999999999999 1.0\n",
      "0.9999999999999999 1.0\n",
      "0.999999999979654 1.0\n",
      "1.0 1.0\n",
      "1.0 1.0\n",
      "1.0 1.0\n",
      "1.0 1.0\n",
      "0.9947030844831559 1.0\n",
      "1.0 1.0\n",
      "1.0 1.0\n",
      "1.0 1.0\n",
      "0.9999999999999999 1.0\n",
      "1.0 1.0\n",
      "1.0 1.0\n",
      "1.0 1.0\n",
      "1.0 1.0\n",
      "0.0 0.0\n",
      "0.0 0.0\n",
      "0.0 0.0\n",
      "0.0 0.0\n",
      "0.0 0.0\n",
      "0.0 0.0\n",
      "0.0 0.0\n",
      "2.2682484790426116e-07 0.0\n",
      "0.0 0.0\n",
      "8.73554852121039e-07 0.0\n",
      "0.0 0.0\n",
      "0.0 0.0\n",
      "0.0 0.0\n",
      "0.0 0.0\n",
      "1.8041124150158794e-12 0.0\n",
      "0.0 0.0\n",
      "3.0843514409184536e-09 0.0\n",
      "0.0 0.0\n",
      "0.0 0.0\n",
      "0.0 0.0\n",
      "6.947553643499305e-12 0.0\n",
      "0.0 0.0\n",
      "0.0 0.0\n",
      "0.0 0.0\n",
      "0.0 0.0\n",
      "0.0 0.0\n",
      "0.0 0.0\n",
      "0.0 0.0\n",
      "0.0 0.0\n",
      "0.0 0.0\n",
      "0.0 0.0\n",
      "0.0 0.0\n",
      "0.0 0.0\n",
      "0.0 0.0\n",
      "0.003656168262286874 0.0\n",
      "1.8619311537015903e-08 0.0\n",
      "0.0 0.0\n",
      "0.0 0.0\n",
      "3.0843514409184536e-09 0.0\n",
      "0.0 0.0\n",
      "0.0 0.0\n",
      "0.0 0.0\n",
      "0.0 0.0\n",
      "1.2168044349891716e-13 0.0\n",
      "0.0 0.0\n",
      "2.8277380437202737e-12 0.0\n",
      "1.5543122344752192e-15 0.0\n",
      "0.0 0.0\n",
      "3.259599257177115e-10 0.0\n",
      "0.0 0.0\n"
     ]
    }
   ],
   "source": [
    "# Accuracy measurer\n",
    "for l,w,c in data_set:\n",
    "    print(color_predictor_network(l,w), c,end=\"\\n\")\n",
    "    # print((color_predictor_network(l,w)*100)/ c)"
   ]
  }
 ],
 "metadata": {
  "kernelspec": {
   "display_name": "Python 3.10.6 64-bit (microsoft store)",
   "language": "python",
   "name": "python3"
  },
  "language_info": {
   "codemirror_mode": {
    "name": "ipython",
    "version": 3
   },
   "file_extension": ".py",
   "mimetype": "text/x-python",
   "name": "python",
   "nbconvert_exporter": "python",
   "pygments_lexer": "ipython3",
   "version": "3.10.6"
  },
  "orig_nbformat": 4,
  "vscode": {
   "interpreter": {
    "hash": "6b4b8c4625773474da7b9dda2ad60d570a58d7f50d05e940dab710fff93ee8c5"
   }
  }
 },
 "nbformat": 4,
 "nbformat_minor": 2
}
