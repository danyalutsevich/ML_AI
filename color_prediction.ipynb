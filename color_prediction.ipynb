{
 "cells": [
  {
   "cell_type": "code",
   "execution_count": 2,
   "metadata": {},
   "outputs": [],
   "source": [
    "import numpy as np\n",
    "import math"
   ]
  },
  {
   "cell_type": "code",
   "execution_count": 13,
   "metadata": {},
   "outputs": [
    {
     "name": "stdout",
     "output_type": "stream",
     "text": [
      "0 -3 -2\n",
      "[5.1 3.5 1. ]\n"
     ]
    }
   ],
   "source": [
    "LR = 0.3\n",
    "EPOCHS = 10000\n",
    "FLOOR = 10000\n",
    "# 1 - red\n",
    "# 0 - blue\n",
    "dataset = np.array([{\"l\": 3, \"w\": 1, \"c\": 1}, {\"l\": 0.7, \"w\": 2, \"c\": 0}, {\"l\": 1.3, \"w\": 1.8, \"c\": 0}, {\n",
    "                   \"l\": 2.5, \"w\": 0.9, \"c\": 1}, {\"l\": 2.7, \"w\": 1.2, \"c\": 1}, {\"l\": 1.2, \"w\": 1.9, \"c\": 0}])\n",
    "data_set = np.loadtxt(\"flowersDataset.csv\", skiprows=1, delimiter=\",\")\n",
    "\n",
    "W1n = np.random.randint(low=-10, high=10)\n",
    "W2n = np.random.randint(low=-10, high=10)\n",
    "Bn = np.random.randint(low=-10, high=10)\n",
    "\n",
    "print(W1n, W2n, Bn)\n",
    "print(data_set[0])\n"
   ]
  },
  {
   "cell_type": "code",
   "execution_count": 4,
   "metadata": {},
   "outputs": [
    {
     "data": {
      "text/plain": [
       "0.5"
      ]
     },
     "execution_count": 4,
     "metadata": {},
     "output_type": "execute_result"
    }
   ],
   "source": [
    "def sigmoid(x):\n",
    "    return 1 / (1+np.exp(-x))\n",
    "\n",
    "\n",
    "def floored_sigmoid(x, floor_value):\n",
    "    sig = 1 / (1+np.exp(-x))\n",
    "    return np.floor(sig * floor_value)/floor_value\n",
    "\n",
    "\n",
    "def color_predictor_network(l, w):\n",
    "    return W1n*l + W2n*w + Bn\n",
    "\n",
    "\n",
    "def K(model, expected):\n",
    "    return 2 * (model - expected)\n",
    "\n",
    "sigmoid(0)\n"
   ]
  },
  {
   "cell_type": "code",
   "execution_count": 15,
   "metadata": {},
   "outputs": [
    {
     "name": "stdout",
     "output_type": "stream",
     "text": [
      "0.36787\n",
      "1.0261879630648827e-10\n",
      "1.0261879630648827e-10\n",
      "0.0\n"
     ]
    }
   ],
   "source": [
    "print(math.floor(math.exp(-1)*100000)/100000)\n",
    "print(1 / (1+np.exp(23)))\n",
    "print(sigmoid(-23))\n",
    "print(floored_sigmoid(-23, 1000))"
   ]
  },
  {
   "cell_type": "code",
   "execution_count": 23,
   "metadata": {},
   "outputs": [
    {
     "name": "stdout",
     "output_type": "stream",
     "text": [
      "W1 -70.33006799996262 W2 61.02630599901586 B 190.10223999263266\n"
     ]
    }
   ],
   "source": [
    "\n",
    "iterations = 0\n",
    "# 0 - length\n",
    "# 1 - width\n",
    "# Training\n",
    "while iterations < EPOCHS:\n",
    "    iterations += 1\n",
    "    for l, w, c in data_set:\n",
    "        prediction = color_predictor_network(l, w)\n",
    "        prediction = floored_sigmoid(prediction,FLOOR)\n",
    "        k = K(prediction, c)\n",
    "        W1n = W1n - k * LR * l\n",
    "        W2n = W2n - k * LR * w\n",
    "        Bn = Bn - k * LR * c\n",
    "\n",
    "print(f\"W1 {W1n} W2 {W2n} B {Bn}\")\n",
    "\n",
    "# W1 -146.2421399909736 W2 121.53865599880457 B 415.68340003302865"
   ]
  },
  {
   "cell_type": "code",
   "execution_count": 24,
   "metadata": {},
   "outputs": [
    {
     "name": "stdout",
     "output_type": "stream",
     "text": [
      "1.0 1.0\n",
      "0.9999 1.0\n",
      "1.0 1.0\n",
      "1.0 1.0\n",
      "1.0 1.0\n",
      "1.0 1.0\n",
      "1.0 1.0\n",
      "1.0 1.0\n",
      "1.0 1.0\n",
      "0.9999 1.0\n",
      "0.9999 1.0\n",
      "1.0 1.0\n",
      "0.9999 1.0\n",
      "1.0 1.0\n",
      "0.9999 1.0\n",
      "1.0 1.0\n",
      "1.0 1.0\n",
      "1.0 1.0\n",
      "0.9999 1.0\n",
      "1.0 1.0\n",
      "0.9999 1.0\n",
      "1.0 1.0\n",
      "1.0 1.0\n",
      "0.9999 1.0\n",
      "1.0 1.0\n",
      "0.9999 1.0\n",
      "1.0 1.0\n",
      "1.0 1.0\n",
      "0.9999 1.0\n",
      "1.0 1.0\n",
      "1.0 1.0\n",
      "0.9999 1.0\n",
      "1.0 1.0\n",
      "1.0 1.0\n",
      "0.9999 1.0\n",
      "0.9999 1.0\n",
      "0.9999 1.0\n",
      "1.0 1.0\n",
      "1.0 1.0\n",
      "1.0 1.0\n",
      "1.0 1.0\n",
      "0.9999 1.0\n",
      "1.0 1.0\n",
      "1.0 1.0\n",
      "1.0 1.0\n",
      "0.9999 1.0\n",
      "1.0 1.0\n",
      "1.0 1.0\n",
      "1.0 1.0\n",
      "1.0 1.0\n",
      "0.0 0.0\n",
      "0.0 0.0\n",
      "0.0 0.0\n",
      "0.0 0.0\n",
      "0.0 0.0\n",
      "0.0 0.0\n",
      "0.0 0.0\n",
      "0.0003 0.0\n",
      "0.0 0.0\n",
      "0.0 0.0\n",
      "0.0 0.0\n",
      "0.0 0.0\n",
      "0.0 0.0\n",
      "0.0 0.0\n",
      "0.0 0.0\n",
      "0.0 0.0\n",
      "0.0 0.0\n",
      "0.0 0.0\n",
      "0.0 0.0\n",
      "0.0 0.0\n",
      "0.0 0.0\n",
      "0.0 0.0\n",
      "0.0 0.0\n",
      "0.0 0.0\n",
      "0.0 0.0\n",
      "0.0 0.0\n",
      "0.0 0.0\n",
      "0.0 0.0\n",
      "0.0 0.0\n",
      "0.0 0.0\n",
      "0.0 0.0\n",
      "0.0 0.0\n",
      "0.0 0.0\n",
      "0.0 0.0\n",
      "0.0013 0.0\n",
      "0.0 0.0\n",
      "0.0 0.0\n",
      "0.0 0.0\n",
      "0.0 0.0\n",
      "0.0 0.0\n",
      "0.0 0.0\n",
      "0.0 0.0\n",
      "0.0 0.0\n",
      "0.0 0.0\n",
      "0.0 0.0\n",
      "0.0 0.0\n",
      "0.0 0.0\n",
      "0.0 0.0\n",
      "0.0 0.0\n",
      "0.0 0.0\n"
     ]
    }
   ],
   "source": [
    "# Accuracy measurer\n",
    "\n",
    "predictions = []\n",
    "for l, w, c in data_set:\n",
    "    prediction = color_predictor_network(l, w)\n",
    "    sigmoid_prediction =floored_sigmoid(prediction,FLOOR)\n",
    "    # predictions.append([sigmoid_prediction,c])\n",
    "    # print(sigmoid_prediction, \"1\" if prediction > 50 else \"0\", c)\n",
    "    print(sigmoid_prediction, c)\n",
    "# np.set_printoptions(suppress=True)\n",
    "# predictions = np.array(predictions)\n",
    "# for el in predictions:\n",
    "#     print(el[0]*100/el[1])\n",
    "# print(predictions)"
   ]
  }
 ],
 "metadata": {
  "kernelspec": {
   "display_name": "Python 3.10.6 64-bit (microsoft store)",
   "language": "python",
   "name": "python3"
  },
  "language_info": {
   "codemirror_mode": {
    "name": "ipython",
    "version": 3
   },
   "file_extension": ".py",
   "mimetype": "text/x-python",
   "name": "python",
   "nbconvert_exporter": "python",
   "pygments_lexer": "ipython3",
   "version": "3.10.8"
  },
  "orig_nbformat": 4,
  "vscode": {
   "interpreter": {
    "hash": "6b4b8c4625773474da7b9dda2ad60d570a58d7f50d05e940dab710fff93ee8c5"
   }
  }
 },
 "nbformat": 4,
 "nbformat_minor": 2
}
