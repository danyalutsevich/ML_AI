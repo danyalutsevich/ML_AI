{
 "cells": [
  {
   "cell_type": "code",
   "execution_count": 1,
   "metadata": {},
   "outputs": [
    {
     "name": "stderr",
     "output_type": "stream",
     "text": [
      "C:\\Users\\luche\\AppData\\Local\\Packages\\PythonSoftwareFoundation.Python.3.9_qbz5n2kfra8p0\\LocalCache\\local-packages\\Python39\\site-packages\\tqdm\\auto.py:22: TqdmWarning: IProgress not found. Please update jupyter and ipywidgets. See https://ipywidgets.readthedocs.io/en/stable/user_install.html\n",
      "  from .autonotebook import tqdm as notebook_tqdm\n"
     ]
    }
   ],
   "source": [
    "import os\n",
    "import cv2\n",
    "import numpy as np\n",
    "import tqdm as tqdm\n",
    "import torch.optim as optim\n",
    "import matplotlib.pyplot as plt\n",
    "\n",
    "PREPARE_IMAGES = True\n",
    "IMAGES_TO_PREPARE = 100\n"
   ]
  },
  {
   "cell_type": "code",
   "execution_count": 2,
   "metadata": {},
   "outputs": [],
   "source": [
    "class CatsAndDogs:\n",
    "    def __init__(self, rootFolderWithSubFolders):\n",
    "        foldersCount = len(os.listdir(rootFolderWithSubFolders))\n",
    "        if foldersCount != 2:\n",
    "            raise Exception(\"Root folder containd more than 2 folders\")\n",
    "\n",
    "        \n",
    "        self.IMAGE_SIZE = 50\n",
    "        CATS = \"../data/pets/cats/\"\n",
    "        DOGS = \"../data/pets/dogs/\"\n",
    "        LABELS = {CATS: 0, DOGS: 1}\n",
    "\n",
    "    training_data = []\n",
    "    cat_counter = 0\n",
    "    dog_counter = 0\n",
    "\n",
    "    def prepare_training_dataset(self):\n",
    "        for dirs in self.LABELS:\n",
    "            for f in os.listdir(dirs):\n",
    "                try:\n",
    "                    path = os.path.join(dirs, f)\n",
    "                    img = cv2.imread(path, cv2.IMREAD_GRAYSCALE)\n",
    "                    img = cv2.resize(img, (self.IMAGE_SIZE, self.IMAGE_SIZE))\n",
    "                    self.training_data.append(\n",
    "                        [np.array(img), np.eye(2)[self.LABELS[dirs]]])\n",
    "                except Exception as e:\n",
    "                    pass\n",
    "        np.random.shuffle(self.training_data)\n",
    "        np.save(\"training_data.[]\", self.training_data)\n"
   ]
  },
  {
   "cell_type": "code",
   "execution_count": 3,
   "metadata": {},
   "outputs": [
    {
     "name": "stderr",
     "output_type": "stream",
     "text": [
      "C:\\Users\\luche\\AppData\\Local\\Packages\\PythonSoftwareFoundation.Python.3.9_qbz5n2kfra8p0\\LocalCache\\local-packages\\Python39\\site-packages\\numpy\\lib\\npyio.py:521: VisibleDeprecationWarning: Creating an ndarray from ragged nested sequences (which is a list-or-tuple of lists-or-tuples-or ndarrays with different lengths or shapes) is deprecated. If you meant to do this, you must specify 'dtype=object' when creating the ndarray.\n",
      "  arr = np.asanyarray(arr)\n"
     ]
    }
   ],
   "source": [
    "obj = CatsAndDogs()\n",
    "obj.prepare_training_dataset()\n"
   ]
  },
  {
   "cell_type": "code",
   "execution_count": null,
   "metadata": {},
   "outputs": [],
   "source": [
    "myDataset = CatsAndDogs(\"\")"
   ]
  },
  {
   "cell_type": "code",
   "execution_count": 11,
   "metadata": {},
   "outputs": [
    {
     "name": "stdout",
     "output_type": "stream",
     "text": [
      "../data/pets/cats/\n",
      "../data/pets/dogs/\n"
     ]
    }
   ],
   "source": [
    "for dir in obj.LABELS:\n",
    "    print(dir)"
   ]
  },
  {
   "cell_type": "code",
   "execution_count": 4,
   "metadata": {},
   "outputs": [],
   "source": [
    "import torch\n",
    "import torch.nn as nn\n",
    "import torch.nn.functional as F\n"
   ]
  },
  {
   "cell_type": "code",
   "execution_count": 5,
   "metadata": {},
   "outputs": [],
   "source": [
    "class ConvNet(nn.Module):\n",
    "    def __init__(self):\n",
    "        super().__init__()\n",
    "        self.conv_layer_1 = nn.Conv2d(1, 32, 5)\n",
    "        self.conv_layer_2 = nn.Conv2d(32, 64, 5)\n",
    "        self.conv_layer_3 = nn.Conv2d(64, 128, 5)\n",
    "\n",
    "        test_data = torch.randn(50, 50).view(-1, 1, 50, 50)\n",
    "        self.convert_to_linear = None\n",
    "\n",
    "        self.run_conv_layers(test_data)\n",
    "\n",
    "        self.hidden_layer_1 = nn.Linear(self.convert_to_linear, 512)\n",
    "        self.output_layer = nn.Linear(512, 2)\n",
    "\n",
    "    def run_conv_layers(self, data):\n",
    "        data = F.max_pool2d(F.relu(self.conv_layer_1(data)), (2, 2))\n",
    "        data = F.max_pool2d(F.relu(self.conv_layer_2(data)), (2, 2))\n",
    "        data = F.max_pool2d(F.relu(self.conv_layer_3(data)), (2, 2))\n",
    "\n",
    "        if self.convert_to_linear is None:\n",
    "            self.convert_to_linear = data[0].shape[0] * \\\n",
    "                data[0].shape[1] * data[0].shape[2]\n",
    "        return data\n",
    "\n",
    "    def forward(self, data):\n",
    "        data = self.run_conv_layers(data)\n",
    "        data = data.view(-1, self.convert_to_linear)\n",
    "        data = F.relu(self.hidden_layer_1(data))\n",
    "        data = self.output_layer(data)\n",
    "\n",
    "        return F.softmax(data, dim=1)\n"
   ]
  },
  {
   "cell_type": "code",
   "execution_count": 6,
   "metadata": {},
   "outputs": [],
   "source": [
    "my_net = ConvNet()\n"
   ]
  },
  {
   "cell_type": "code",
   "execution_count": 8,
   "metadata": {},
   "outputs": [
    {
     "name": "stdout",
     "output_type": "stream",
     "text": [
      "tensor(0.1702, grad_fn=<MseLossBackward0>)\n"
     ]
    }
   ],
   "source": [
    "optimizer = optim.Adam(my_net.parameters(), lr=0.001)\n",
    "loss_fn = nn.MSELoss()\n",
    "X = torch.Tensor([i[0] for i in obj.training_data]).view(-1, 1, 50, 50)\n",
    "X = X/255.0\n",
    "Y = torch.Tensor([i[1] for i in obj.training_data])\n",
    "\n",
    "VALIDATION_PERCENTAGE = 0.1\n",
    "\n",
    "validation_size = int(len(X) * VALIDATION_PERCENTAGE)\n",
    "\n",
    "train_data = X[:-validation_size]\n",
    "correct_answers = Y[:-validation_size]\n",
    "\n",
    "test_data = X[-validation_size:]\n",
    "test_correct_answers = Y[-validation_size:]\n",
    "\n",
    "BATCH_SIZE = 128\n",
    "EPOCHS = 1\n",
    "\n",
    "for epoch in range(EPOCHS):\n",
    "    for i in range(0, len(train_data), BATCH_SIZE):\n",
    "        batch_X = train_data[i:i+BATCH_SIZE].view(-1, 1, 50, 50)\n",
    "        batch_Y = correct_answers[i:i+BATCH_SIZE]\n",
    "        my_net.zero_grad()\n",
    "        results = my_net(batch_X)\n",
    "        loss = loss_fn(results, batch_Y)\n",
    "        loss.backward()\n",
    "        optimizer.step()\n",
    "print(loss)\n"
   ]
  },
  {
   "cell_type": "code",
   "execution_count": 9,
   "metadata": {},
   "outputs": [
    {
     "name": "stdout",
     "output_type": "stream",
     "text": [
      "Correct: 1861\n",
      "Total:  2494\n",
      "74.61908580593423\n"
     ]
    }
   ],
   "source": [
    "correct = 0\n",
    "total = 0\n",
    "\n",
    "with torch.no_grad():\n",
    "    for i in range(len(test_data)):\n",
    "        correct_answer = torch.argmax(test_correct_answers[i])\n",
    "        result = my_net(test_data[i].view(-1, 1, 50, 50))[0]\n",
    "        model_answer = torch.argmax(result)\n",
    "\n",
    "        if correct_answer == model_answer:\n",
    "            correct += 1\n",
    "        total += 1\n",
    "print(\"Correct:\", correct)\n",
    "print(\"Total: \", total)\n",
    "print(correct/total*100)\n"
   ]
  }
 ],
 "metadata": {
  "kernelspec": {
   "display_name": "Python 3",
   "language": "python",
   "name": "python3"
  },
  "language_info": {
   "codemirror_mode": {
    "name": "ipython",
    "version": 3
   },
   "file_extension": ".py",
   "mimetype": "text/x-python",
   "name": "python",
   "nbconvert_exporter": "python",
   "pygments_lexer": "ipython3",
   "version": "3.9.13 (tags/v3.9.13:6de2ca5, May 17 2022, 16:36:42) [MSC v.1929 64 bit (AMD64)]"
  },
  "orig_nbformat": 4,
  "vscode": {
   "interpreter": {
    "hash": "9f80a4396e16e65cb978191e505a799165a7f7af96ad65ea2eb3996d06460e56"
   }
  }
 },
 "nbformat": 4,
 "nbformat_minor": 2
}
